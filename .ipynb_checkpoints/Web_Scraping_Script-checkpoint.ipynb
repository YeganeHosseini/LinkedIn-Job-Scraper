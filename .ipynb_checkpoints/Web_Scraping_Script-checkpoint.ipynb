{
 "cells": [
  {
   "cell_type": "markdown",
   "id": "39e912f0-9267-44e2-8584-e8a929355709",
   "metadata": {},
   "source": [
    "# Job Listings Scraper\n",
    "## Writing the Web Scraping Script for Indeed.com"
   ]
  },
  {
   "cell_type": "code",
   "execution_count": 42,
   "id": "9b182cd6-aa33-4bde-bc18-3d6c44e543a8",
   "metadata": {},
   "outputs": [],
   "source": [
    "import requests\n",
    "from bs4 import BeautifulSoup\n",
    "import pandas as pd\n"
   ]
  },
  {
   "cell_type": "markdown",
   "id": "a1a790d6-5b3b-4356-a1f9-3eec438d78ff",
   "metadata": {},
   "source": [
    "- **requests:** For making HTTP requests to fetch webpage content.\n",
    "- **BeautifulSoup:** For parsing the HTML content and extracting data.\n",
    "- **Pandas:** For storing and manipulating the extracted data."
   ]
  },
  {
   "cell_type": "code",
   "execution_count": 43,
   "id": "6650e6bd-4358-4084-828e-d1222883e760",
   "metadata": {},
   "outputs": [],
   "source": [
    "#Sending a GET Request to Website"
   ]
  },
  {
   "cell_type": "code",
   "execution_count": 50,
   "id": "827f643d-6df2-4ce3-b508-bf9e338a50ba",
   "metadata": {},
   "outputs": [
    {
     "name": "stdout",
     "output_type": "stream",
     "text": [
      "403\n",
      "<!DOCTYPE html><html lang=\"en\"><head><meta charset=\"utf-8\"><title>Blocked - Indeed.com</title><meta name=\"viewport\" content=\"width=device-width, initial-scale=1\"><style>/* cyrillic-ext */\n",
      "@font-face {\n",
      "  font-family: 'Noto Sans';\n",
      "  font-style: italic;\n",
      "  font-weight: 400;\n",
      "  font-stretch: normal;\n",
      "  font-display: swap;\n",
      "  src: url(data:font/woff2;base64,d09GMgABAAAAAGMIAA8AAAAA3eQAAGKmAAEAAAAAAAAAAAAAAAAAAAAAAAAAAAAAGoFkG7JaHGAGYD9TVEFUWgCDFBEICoLHNIKDTQuGEAABNgIkA4wcBCAFhGgHoCsb6bc32DaNG97tAFaW9Fu8Y\n"
     ]
    }
   ],
   "source": [
    "url = 'https://de.indeed.com/jobs?q=Data%20Analyst&l=&from=searchOnDesktopSerp'\n",
    "response = requests.get(url)\n",
    "\n",
    "print(response.status_code)  # Should print 200 if successful\n",
    "print(response.text[:500])  # Print the first 500 characters of the page content\n",
    "\n"
   ]
  },
  {
   "cell_type": "markdown",
   "id": "d4dac2ed-b71d-4fc4-8a1b-2d6c9a21465a",
   "metadata": {},
   "source": [
    "- **url:** The target URL where you want to scrape data.\n",
    "- **requests.get(url):** Sends a GET request to the specified URL, and the HTML content of the page is returned and stored in response."
   ]
  },
  {
   "cell_type": "code",
   "execution_count": 45,
   "id": "25cc3f11-853c-4827-91ae-12ac4d71d316",
   "metadata": {},
   "outputs": [],
   "source": [
    "#Parsinf the HTML Content\n",
    "soup = BeautifulSoup(response.content, 'html.parser')\n"
   ]
  },
  {
   "cell_type": "markdown",
   "id": "92006b30-ed95-4b04-b2cb-e82668837a39",
   "metadata": {},
   "source": [
    "- **BeautifulSoup(response.content, 'html.parser'):** Parses the HTML content using BeautifulSoup. The 'html.parser' is a built-in parser in Python that converts the HTML into a navigable structure."
   ]
  },
  {
   "cell_type": "code",
   "execution_count": 52,
   "id": "9d3e77f4-a1ce-49c4-b42f-e247d5702aac",
   "metadata": {},
   "outputs": [],
   "source": [
    "# Extracting job Listing\n",
    "job_titles = []\n",
    "companies = []\n",
    "locations = []\n",
    "summaries = []\n",
    "\n",
    "for job_card in soup.find_all('div', class_='jobsearch-SerpJobCard'):\n",
    "    title = job_card.find('a', class_='jobtitle').text.strip()\n",
    "    company = job_card.find('span', class_='company').text.strip()\n",
    "    location = job_card.find('div', class_='location').text.strip()\n",
    "    summary = job_card.find('div', class_='summary').text.strip()\n",
    "\n",
    "    job_titles.append(title)\n",
    "    companies.append(company)\n",
    "    locations.append(location)\n",
    "    summaries.append(summary)\n"
   ]
  },
  {
   "cell_type": "markdown",
   "id": "3473e2ee-062a-46f2-a22d-fb72dced8ee9",
   "metadata": {},
   "source": [
    "- **.find_all('div', class_='jobsearch-SerpJobCard'):** Finds all job cards on the page, each representing a job listing.\n",
    "- **.find():** Extracts specific information like job title, company, location, and summary from each job card.\n",
    "- **.text.strip():** Extracts the text content from the HTML tags and removes any leading/trailing whitespace.\n"
   ]
  },
  {
   "cell_type": "code",
   "execution_count": 51,
   "id": "f7dd4816-1a14-4308-b95b-3e36190cc65e",
   "metadata": {},
   "outputs": [],
   "source": [
    "#Storing data in pandas DataFrame\n",
    "jobs_df = pd.DataFrame({\n",
    "    'Job Title': job_titles,\n",
    "    'Company': companies,\n",
    "    'Location': locations,\n",
    "    'Summary': summaries\n",
    "})\n"
   ]
  },
  {
   "cell_type": "code",
   "execution_count": 48,
   "id": "7ddef71b-9ae0-4c31-80c5-0de634d94ade",
   "metadata": {},
   "outputs": [
    {
     "name": "stdout",
     "output_type": "stream",
     "text": [
      "Job listings have been scraped and saved to job_listings_indeed.csv\n"
     ]
    }
   ],
   "source": [
    "# Save DateFrame to Csv File\n",
    "jobs_df.to_csv('job_listings_indeed.csv', index=False)\n",
    "print(\"Job listings have been scraped and saved to job_listings_indeed.csv\")\n"
   ]
  },
  {
   "cell_type": "code",
   "execution_count": 49,
   "id": "39c20e0f-d0a5-45b4-b94c-ad7dcf345887",
   "metadata": {},
   "outputs": [
    {
     "data": {
      "text/html": [
       "<div>\n",
       "<style scoped>\n",
       "    .dataframe tbody tr th:only-of-type {\n",
       "        vertical-align: middle;\n",
       "    }\n",
       "\n",
       "    .dataframe tbody tr th {\n",
       "        vertical-align: top;\n",
       "    }\n",
       "\n",
       "    .dataframe thead th {\n",
       "        text-align: right;\n",
       "    }\n",
       "</style>\n",
       "<table border=\"1\" class=\"dataframe\">\n",
       "  <thead>\n",
       "    <tr style=\"text-align: right;\">\n",
       "      <th></th>\n",
       "      <th>Job Title</th>\n",
       "      <th>Location</th>\n",
       "    </tr>\n",
       "  </thead>\n",
       "  <tbody>\n",
       "  </tbody>\n",
       "</table>\n",
       "</div>"
      ],
      "text/plain": [
       "Empty DataFrame\n",
       "Columns: [Job Title, Location]\n",
       "Index: []"
      ]
     },
     "execution_count": 49,
     "metadata": {},
     "output_type": "execute_result"
    }
   ],
   "source": [
    "pd.read_csv('job_listings_indeed.csv')  "
   ]
  }
 ],
 "metadata": {
  "kernelspec": {
   "display_name": "Python 3 (ipykernel)",
   "language": "python",
   "name": "python3"
  },
  "language_info": {
   "codemirror_mode": {
    "name": "ipython",
    "version": 3
   },
   "file_extension": ".py",
   "mimetype": "text/x-python",
   "name": "python",
   "nbconvert_exporter": "python",
   "pygments_lexer": "ipython3",
   "version": "3.11.4"
  }
 },
 "nbformat": 4,
 "nbformat_minor": 5
}
